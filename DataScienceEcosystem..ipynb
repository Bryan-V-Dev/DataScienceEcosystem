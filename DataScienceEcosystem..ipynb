{
 "cells": [
  {
   "cell_type": "markdown",
   "id": "5d1fea7e-fb6b-46d9-8a18-ec17f4ea6c15",
   "metadata": {},
   "source": [
    "# Data Science Tools and Ecosystem"
   ]
  },
  {
   "cell_type": "markdown",
   "id": "3eba9761-e912-4d3e-be1a-82f401f5c763",
   "metadata": {},
   "source": [
    "In this Notebook, you can find the most famous Tools and Ecosystems for Data Science"
   ]
  },
  {
   "cell_type": "markdown",
   "id": "4393db0b-3a35-4c1e-b74d-616dd3ea2038",
   "metadata": {},
   "source": [
    "**Objectives:**\n",
    "* List of Popular languages\n",
    "* List of Common Libraries\n",
    "* Arithmetic expressions in Python"
   ]
  },
  {
   "cell_type": "markdown",
   "id": "cf3e8dba-2945-4eb6-b238-613d2bd9524b",
   "metadata": {},
   "source": [
    "Some of the popular languages in Data Science are:\n",
    "1. Python\n",
    "2. R (language)\n",
    "3. Julia\n",
    "4. Scala\n",
    "5. Java\n",
    "6. C++\n",
    "7. JavaScript"
   ]
  },
  {
   "cell_type": "markdown",
   "id": "1630b11e-2e2a-4705-890b-670a13f4ac92",
   "metadata": {},
   "source": [
    "Some of the commonly used libraries used by  Data Scientists in Python include:\n",
    "1. Pandas\n",
    "2. Numpy\n",
    "3. SciPy\n",
    "4. Matplotlib"
   ]
  },
  {
   "cell_type": "markdown",
   "id": "16fd6afa-4dda-4471-8062-2c606fce15c9",
   "metadata": {},
   "source": [
    "|Data Science Tools|\n",
    "|---|\n",
    "|Jupyter|\n",
    "|Jupyter-Lab|\n",
    "|Spyder|\n",
    "|R Studio|\n",
    "|Apache Zeppelin|"
   ]
  },
  {
   "cell_type": "markdown",
   "id": "82a92028-aee3-4b50-992d-3722df3a913b",
   "metadata": {},
   "source": [
    "### Below are a few examples of evaluating arithmetic expressions in Python"
   ]
  },
  {
   "cell_type": "code",
   "execution_count": 1,
   "id": "4411e6ff-309a-434d-9fe2-bf1901154b16",
   "metadata": {},
   "outputs": [
    {
     "data": {
      "text/plain": [
       "17"
      ]
     },
     "execution_count": 1,
     "metadata": {},
     "output_type": "execute_result"
    }
   ],
   "source": [
    "# This a simple arithmetic expression to multiply and then add integers\n",
    "\n",
    "(3*4)+5"
   ]
  },
  {
   "cell_type": "code",
   "execution_count": 2,
   "id": "1d773204-a61f-45ef-a839-b6a2b6528b8e",
   "metadata": {},
   "outputs": [
    {
     "data": {
      "text/plain": [
       "3.3333333333333335"
      ]
     },
     "execution_count": 2,
     "metadata": {},
     "output_type": "execute_result"
    }
   ],
   "source": [
    "# This will convert 200 minute to hours by diving by 60\n",
    "\n",
    "200/60"
   ]
  },
  {
   "cell_type": "markdown",
   "id": "0ae92af0-4b1d-4b2a-9877-15cf936073bd",
   "metadata": {},
   "source": [
    "## Author\n",
    "Bryan David Vasquez Paz"
   ]
  },
  {
   "cell_type": "code",
   "execution_count": null,
   "id": "0a1cdd58-3b3d-42d7-9fc5-0da368325a27",
   "metadata": {},
   "outputs": [],
   "source": []
  }
 ],
 "metadata": {
  "kernelspec": {
   "display_name": "Python 3 (ipykernel)",
   "language": "python",
   "name": "python3"
  },
  "language_info": {
   "codemirror_mode": {
    "name": "ipython",
    "version": 3
   },
   "file_extension": ".py",
   "mimetype": "text/x-python",
   "name": "python",
   "nbconvert_exporter": "python",
   "pygments_lexer": "ipython3",
   "version": "3.11.4"
  }
 },
 "nbformat": 4,
 "nbformat_minor": 5
}
